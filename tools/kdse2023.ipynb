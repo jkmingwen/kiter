{
 "cells": [
  {
   "cell_type": "markdown",
   "id": "16551e7a",
   "metadata": {},
   "source": [
    "# K2DSE Benchmarks\n",
    "\n",
    "This is a lab report of currents experiments with KDSE*"
   ]
  },
  {
   "cell_type": "markdown",
   "id": "01a527cd",
   "metadata": {},
   "source": [
    "## What do we need to show "
   ]
  },
  {
   "cell_type": "markdown",
   "id": "e1a5f05d",
   "metadata": {},
   "source": [
    "### Goal 0 - re-implementation\n",
    "\n",
    "\n",
    "First, I need to make sure my re-implementation is identical. Not trivial as we count SD differently."
   ]
  },
  {
   "cell_type": "markdown",
   "id": "d367b9ff",
   "metadata": {},
   "source": [
    "#### 0.1 Count that the number of SD found is the same between OldKDSE,DKDSE,DKDSEA (the capstone implementation) and KDSE,K2DSE,K2DSEA (the paper re-implementation).\n",
    "\n",
    "&#10004;  We are correct"
   ]
  },
  {
   "cell_type": "markdown",
   "id": "2f56dc30",
   "metadata": {},
   "source": [
    "#### 0.2 Verify that the algorithm isnt slower\n",
    "\n",
    "&#10004;  We are faster "
   ]
  },
  {
   "cell_type": "markdown",
   "id": "94536e86",
   "metadata": {},
   "source": [
    "#### 0.3 Check that the thread implementation is identical and also faster."
   ]
  },
  {
   "cell_type": "markdown",
   "id": "0022ffb4",
   "metadata": {},
   "source": [
    "&#10004;  The implementation can explore more point given the concurrency effect over the end of exploration.\n",
    "On large instances, there is a clear speed-up (when available)."
   ]
  },
  {
   "cell_type": "markdown",
   "id": "0860d11f",
   "metadata": {},
   "source": [
    "### Goal 1 - Execution Time and size of explored space by DSE methods. \n",
    "\n",
    "#### generate the table 1 with KDSE,K2DSE,K2DSEA (no multi-thread).\n",
    "\n",
    "\n",
    "### Goal 2 - Pareto fronts and explored space \n",
    "\n",
    "#### generate the Fig 3 with K2DSE,K2DSEA,PDSE (no multi-thread)."
   ]
  },
  {
   "cell_type": "markdown",
   "id": "6a4beb5d",
   "metadata": {},
   "source": [
    "## Prepare data"
   ]
  },
  {
   "cell_type": "code",
   "execution_count": null,
   "id": "12ba0b92",
   "metadata": {},
   "outputs": [],
   "source": [
    "import dsereader\n",
    "\n",
    "logdir = \"../kdse2023_log/\"\n",
    "\n",
    "\n",
    "applications = {\n",
    "    \"bipartite\" :  { \"name\" : \"bipartite\" },\n",
    "   \"Echo\" :  { \"name\" : \"Echo\" },\n",
    "    \"fig8\" :  { \"name\" : \"fig8\" },\n",
    "   \"H264\" :  { \"name\" : \"H264\" },\n",
    "    \"modem\" :  { \"name\" : \"modem\" },\n",
    "    \"sample\" :  { \"name\" : \"sample\" },\n",
    "    \"satellite\" :  { \"name\" : \"satellite\" },\n",
    "    \"BlackScholes\" :  { \"name\" : \"BlackScholes\" },\n",
    "    \"example\" :  { \"name\" : \"example\" },\n",
    "   \"h263decoder\" :  { \"name\" : \"h263decoder\" },\n",
    "   \"JPEG2000\" :  { \"name\" : \"JPEG2000\" },\n",
    "    \"PDectect\" :  { \"name\" : \"PDectect\" },\n",
    "    \"samplerate\"  :  { \"name\" : \"samplerate\" }\n",
    "}\n",
    "\n",
    "methods = {\n",
    " #  0 Infos\n",
    " #  1 Throughput   \n",
    " #   2 : { \"name\" : \"OldKDSE\" ,   \"color\" : \"black\"}, # \"-aKPeriodicThroughputwithDSE\"\n",
    " #   3 : { \"name\" : \"DeepKDSE\" ,  \"color\" : \"red\"}, # \"-aDeepKPeriodicThroughputwithDSE\"\n",
    " #   4 : { \"name\" : \"DeepKDSEA\" , \"color\" : \"green\"}, # \"-aDeepKPeriodicThroughputwithDSE -papprox=1\"\n",
    " #   5 : { \"name\" : \"KDSE\" ,      \"color\" : \"black\"}, # \"-athroughputbufferingDSE -prealtime=1 -pmode=KDSE\"\n",
    "    2 : { \"name\" : \"K2DSE\" ,     \"color\" : \"black\"}, # \"-athroughputbufferingDSE -prealtime=1 -pmode=K2DSE\"\n",
    "    3 : { \"name\" : \"K2DSEA\" ,     \"color\" : \"black\"}, # \"-athroughputbufferingDSE -prealtime=1 -pmode=K2DSEA\"\n",
    "#    8 : { \"name\" : \"KDSE2\" ,     \"color\" : \"black\"}, # \"-athroughputbufferingDSE -prealtime=1 -pmode=KDSE -pthread=2\"\n",
    "#    8 : { \"name\" : \"KDSE4\" ,     \"color\" : \"black\"}, # \"-athroughputbufferingDSE -prealtime=1 -pmode=KDSE -pthread=4\"\n",
    "#   10 : { \"name\" : \"KDSE8\" ,     \"color\" : \"black\"}, # \"-athroughputbufferingDSE -prealtime=1 -pmode=KDSE -pthread=8\"\n",
    "#    9 : { \"name\" : \"KDSE16\" ,    \"color\" : \"black\"}, # \"-athroughputbufferingDSE -prealtime=1 -pmode=KDSE -pthread=16\"\n",
    "}"
   ]
  },
  {
   "cell_type": "code",
   "execution_count": null,
   "id": "628e0f64",
   "metadata": {},
   "outputs": [],
   "source": [
    "## Collect the max throughput for each application\n",
    "import pandas as pd \n",
    "\n",
    "for app in applications.keys() :\n",
    "    for line in open(logdir + \"/\" + app + \"_1.txt\").read().split(\"\\n\"):\n",
    "        if 'KPeriodic Throughput is' in line :\n",
    "            th = float(line.split(\" \")[-1])\n",
    "            applications[app][\"max_throughput\"] = th\n",
    "    for line in open(logdir + \"/\" + app + \"_0.txt\").read().split(\"\\n\"):\n",
    "        if 'Task count' in line :\n",
    "            count = int(line.split(\" \")[-1])\n",
    "            applications[app][\"task_count\"] = count"
   ]
  },
  {
   "cell_type": "code",
   "execution_count": null,
   "id": "eb61fb1d",
   "metadata": {},
   "outputs": [],
   "source": [
    "dsereader.plot_all(logdir, graphs=applications.keys(), methods=methods, plotfunc=dsereader.plot_app_pareto)"
   ]
  },
  {
   "cell_type": "code",
   "execution_count": null,
   "id": "02ff3ab0",
   "metadata": {},
   "outputs": [],
   "source": [
    "import math\n",
    "import datetime\n",
    "def time_in_msec(time_msec): # copy pasted from https://stackoverflow.com/questions/48063828/convert-duration-format-from-float-to-monthdayshoursminutesseconds-in-python\n",
    "    time_sec = int(time_msec // 1000)\n",
    "    delta = datetime.timedelta(seconds=time_sec)\n",
    "    delta_str = str(delta)[-8:]\n",
    "    hours, minutes, seconds = [int(val) for val in delta_str.split(\":\", 3)]\n",
    "    weeks = delta.days // 7\n",
    "    days = delta.days % 7\n",
    "    return \"{}days {}h {}min {}.{}sec ({})\".format(days, hours, minutes, seconds,int(time_msec) & 1000, time_msec)\n",
    "\n",
    "time_in_msec(100000.10)\n"
   ]
  },
  {
   "cell_type": "code",
   "execution_count": null,
   "id": "cd12cba1",
   "metadata": {},
   "outputs": [],
   "source": [
    "def gen_dse_data(logdir, applications, methods, columns = [\"throughput\", \n",
    "                                                           \"storage distribution size\", \n",
    "                                                           \"cumulative duration\"]):\n",
    "    list_of_dict = []\n",
    "\n",
    "    for key,values in applications.items():\n",
    "        \n",
    "        app = key\n",
    "        app_name = values[\"name\"]\n",
    "        app_max_throughput = values[\"max_throughput\"]\n",
    "        app_task_count = values[\"task_count\"]\n",
    "        for m in methods:\n",
    "            method_name = methods[m][\"name\"]\n",
    "            try :\n",
    "                df = dsereader.load_app_dse(logdir, app, m, cols = columns)\n",
    "            except FileNotFoundError:\n",
    "                df = pd.Dataframe()\n",
    "            sd_count = df[\"storage distribution size\"].count() if \"throughput\" in df else \"-\"\n",
    "            max_th = df[\"throughput\"].max() \n",
    "            duration = df[\"cumulative duration\"].max()  if \"cumulative duration\" in df else \"-\"\n",
    "            print(app, m, max_th, app_max_throughput)\n",
    "            finished = math.isclose(max_th, app_max_throughput, rel_tol=1e-5)\n",
    "            pareto = dsereader.extract_pareto(df[[\"throughput\",\"storage distribution size\"]])\n",
    "            pareto_count = pareto[\"storage distribution size\"].count() if finished else \"-\"\n",
    "            list_of_dict += [{\"graph\" : app_name, \n",
    "                                \"#task\" : app_task_count,\n",
    "                                \"method\" : method_name, \n",
    "                                \"#SD\" : sd_count,\n",
    "                                \"#Pareto\" : pareto_count,\n",
    "                                \"Duration\" : duration, \n",
    "                                \"Finished\" : finished}]\n",
    "            \n",
    "    return pd.DataFrame(list_of_dict)"
   ]
  },
  {
   "cell_type": "code",
   "execution_count": null,
   "id": "fcc51959",
   "metadata": {},
   "outputs": [],
   "source": [
    "df = gen_dse_data(logdir, applications=applications, methods=methods)\n",
    "df.set_index([\"graph\",\"#task\",\"method\"])\n"
   ]
  },
  {
   "cell_type": "code",
   "execution_count": null,
   "id": "db0f5f7c",
   "metadata": {},
   "outputs": [],
   "source": [
    "colformat = \"|\".join([\"\"] + [\"l\"] * df.index.nlevels + [\"r\"] * df.shape[1] + [\"\"])\n",
    "               \n",
    "latex = df.to_latex(\n",
    "        float_format=\"{:0.1f}\".format # , column_format=colformat, index=False\n",
    "    )"
   ]
  },
  {
   "cell_type": "markdown",
   "id": "8c65c8ba",
   "metadata": {},
   "source": [
    "# Check new implementation"
   ]
  },
  {
   "cell_type": "markdown",
   "id": "ddf8fb3e",
   "metadata": {},
   "source": []
  },
  {
   "cell_type": "markdown",
   "id": "36a8254a",
   "metadata": {},
   "source": [
    "## 0.1 Check the correctness of the new algorithm\n",
    "\n",
    "❌ We explore less for fig8,and \n",
    "❌ We explore more for BlackScholes. This is due to a difference in OldKDSE when they initialize the first SD. they are correct with this particular app, but their init could be wrong. We stick to the curren one, can be improved later.\n",
    "❌ There are strange artefact when looking at sample output from OldKDSE, it sets buffers to values higher than required at initilization, it is a bug in OldKDSE.\n"
   ]
  },
  {
   "cell_type": "code",
   "execution_count": null,
   "id": "da53a31f",
   "metadata": {},
   "outputs": [],
   "source": [
    "methods_to_compare = [\"OldKDSE\", \"KDSE\"]\n",
    "\n",
    "df = gen_dse_data(logdir, applications=applications, methods=methods)\n",
    "subdf = df[df[\"method\"].isin(methods_to_compare)]\n",
    "subdf"
   ]
  },
  {
   "cell_type": "code",
   "execution_count": null,
   "id": "20e17338",
   "metadata": {},
   "outputs": [],
   "source": [
    "methods_to_compare = [\"DeepKDSE\", \"K2DSE\"]\n",
    "\n",
    "df = gen_dse_data(logdir, applications=applications, methods=methods)\n",
    "subdf = df[df[\"method\"].isin(methods_to_compare)]\n",
    "subdf"
   ]
  },
  {
   "cell_type": "code",
   "execution_count": null,
   "id": "1b46e8ce",
   "metadata": {},
   "outputs": [],
   "source": [
    "methods_to_compare = [\"DeepKDSEA\", \"K2DSEA\"]\n",
    "\n",
    "df = gen_dse_data(logdir, applications=applications, methods=methods)\n",
    "subdf = df[df[\"method\"].isin(methods_to_compare)]\n",
    "subdf"
   ]
  },
  {
   "cell_type": "markdown",
   "id": "c24b54ae",
   "metadata": {},
   "source": []
  },
  {
   "cell_type": "markdown",
   "id": "e537ab48",
   "metadata": {},
   "source": [
    "## 0.2 and 0.3 Check non-threaded and threaded versions are faster\n",
    "\n",
    "When effective we gain one order of magnitude.\n",
    "When not, we lose a few seconds maximum.\n",
    "On my machine 16 is too much."
   ]
  },
  {
   "cell_type": "code",
   "execution_count": null,
   "id": "5dd4d4a5",
   "metadata": {},
   "outputs": [],
   "source": [
    "import seaborn as sns\n",
    "sns.set_style('whitegrid')\n",
    "\n",
    "df = gen_dse_data(logdir, applications=applications, methods=methods)\n",
    "\n",
    "ax=sns.lineplot(data=df, x=\"method\", y=\"Duration\", hue=\"graph\", marker='o', markersize=5)\n",
    "_ = ax.set(yscale='log')\n",
    "\n",
    "sns.move_legend(ax, \"upper left\", bbox_to_anchor=(1, 1))\n"
   ]
  },
  {
   "cell_type": "markdown",
   "id": "f44fe5bc",
   "metadata": {},
   "source": [
    "## 0.3bis Check threaded version has no duplicates\n",
    "\n",
    "The following test ensure the threaded version does not explore twice the same point. "
   ]
  },
  {
   "cell_type": "code",
   "execution_count": null,
   "id": "ab079ef5",
   "metadata": {},
   "outputs": [],
   "source": [
    "def sanity_check(logdir, applications, methods):\n",
    "    for app_key,app_values in applications.items():\n",
    "        for method_key,method_values in methods.items():\n",
    "            \n",
    "            app_name = app_values[\"name\"]\n",
    "            app_task_count = app_values[\"task_count\"]\n",
    "            method_name = method_values[\"name\"]\n",
    "            \n",
    "            try :\n",
    "                df = dsereader.load_app_dse(logdir, app_key, method_key, cols = [\"throughput\", \n",
    "                                                                                 \"storage distribution size\",\n",
    "                                                                                 \"cumulative duration\",\n",
    "                                                                                 \"feedback quantities\"])\n",
    "            except FileNotFoundError:\n",
    "                continue\n",
    "            except ValueError:\n",
    "                continue\n",
    "\n",
    "            # assert it finished\n",
    "            max_th = df[\"throughput\"].max() \n",
    "            app_max_throughput = app_values[\"max_throughput\"]\n",
    "            finished = math.isclose(max_th, app_max_throughput, rel_tol=1e-5)\n",
    "            assert(finished)\n",
    "\n",
    "            # assert there is no duplicates\n",
    "            duplicates_count = len(df[\"feedback quantities\"]) - len(df[\"feedback quantities\"].drop_duplicates())\n",
    "            assert(duplicates_count == 0)\n",
    "\n",
    "            print(app_key, method_key, finished, duplicates_count)\n",
    "        \n",
    "    return True"
   ]
  },
  {
   "cell_type": "code",
   "execution_count": null,
   "id": "feb01449",
   "metadata": {},
   "outputs": [],
   "source": [
    "sanity_check(logdir, applications=applications, methods=methods)"
   ]
  },
  {
   "cell_type": "markdown",
   "id": "65de31e5",
   "metadata": {},
   "source": []
  },
  {
   "cell_type": "markdown",
   "id": "6a739c8a",
   "metadata": {},
   "source": []
  },
  {
   "cell_type": "markdown",
   "id": "1900dbaa",
   "metadata": {},
   "source": [
    "# What do we do next\n",
    "\n",
    "The KDSE2 algorithm is recursive. The first level is global, the second level is local. \n",
    "\n",
    "## Improve the local level\n",
    "\n",
    "There is no way to get deeper, the local level is a single cycle. But single cycle are usually small, so we can accelerate this part by using static knowledge. For example the distribution size for a cycle must be greater than X to improve the throughput. \n",
    "\n",
    "## Improve the global level\n",
    "\n",
    "At the global level, instead of restarting the local level again and again for a same cycle, we could use a cache that store the result."
   ]
  }
 ],
 "metadata": {
  "kernelspec": {
   "display_name": "Python 3 (ipykernel)",
   "language": "python",
   "name": "python3"
  },
  "language_info": {
   "codemirror_mode": {
    "name": "ipython",
    "version": 3
   },
   "file_extension": ".py",
   "mimetype": "text/x-python",
   "name": "python",
   "nbconvert_exporter": "python",
   "pygments_lexer": "ipython3",
   "version": "3.11.6"
  }
 },
 "nbformat": 4,
 "nbformat_minor": 5
}
