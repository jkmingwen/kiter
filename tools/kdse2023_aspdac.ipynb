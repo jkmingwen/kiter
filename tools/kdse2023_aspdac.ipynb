{
 "cells": [
  {
   "cell_type": "markdown",
   "id": "2f56dc30",
   "metadata": {},
   "source": [
    "# K2DSE Benchmarks\n",
    "\n",
    "## What do we need to show \n",
    "\n",
    "\n",
    "### Goal 0 - re-implementation\n",
    "\n",
    "First, I need to make sure my re-implementation is identical. Not trivial as we count SD differently.\n",
    "\n",
    "#### 0.1 Count that the number of SD found is the same between OldKDSE,DKDSE,DKDSEA (the capstone implementation) and KDSE,K2DSE,K2DSEA (the paper re-implementation).\n",
    "\n",
    "#### 0.2 Verify that the algorithm isnt slower"
   ]
  },
  {
   "cell_type": "markdown",
   "id": "9062f80a",
   "metadata": {},
   "source": [
    "We are faster on small instances, need to verify on larger ones."
   ]
  },
  {
   "cell_type": "markdown",
   "id": "94536e86",
   "metadata": {},
   "source": [
    "#### 0.3 Check that the thread implementation is identical and also faster."
   ]
  },
  {
   "cell_type": "markdown",
   "id": "0022ffb4",
   "metadata": {},
   "source": [
    "So far I found duplicated, this implementation is no going to be used"
   ]
  },
  {
   "cell_type": "markdown",
   "id": "0860d11f",
   "metadata": {},
   "source": [
    "### Goal 1 - Execution Time and size of explored space by DSE methods. \n",
    "\n",
    "#### generate the table 1 with KDSE,K2DSE,K2DSEA (no multi-thread).\n",
    "\n",
    "\n",
    "### Goal 2 - Pareto fronts and explored space \n",
    "\n",
    "#### generate the Fig 3 with K2DSE,K2DSEA,PDSE (no multi-thread)."
   ]
  },
  {
   "cell_type": "markdown",
   "id": "6a4beb5d",
   "metadata": {},
   "source": [
    "## Prepare data"
   ]
  },
  {
   "cell_type": "code",
   "execution_count": null,
   "id": "12ba0b92",
   "metadata": {},
   "outputs": [],
   "source": [
    "import dsereader\n",
    "\n",
    "logdir = \"../kdse2023_log/\"\n",
    "\n",
    "appnames = [\"bipartite\",\n",
    "            \"Echo\",\n",
    "            \"fig8\",\n",
    "            \"H264\",\n",
    "            \"modem\",\n",
    "    #        \"sample\",\n",
    "            \"satellite\",\n",
    "            \"BlackScholes\",\n",
    "    #        \"example\",\n",
    "            \"h263decoder\",\n",
    "            \"JPEG2000\",\n",
    "            \"PDectect\",\n",
    "            \"samplerate\"]\n",
    "\n",
    "\n",
    "methods = {\n",
    "    2 : { \"name\" : \"OldKDSE\" ,   \"color\" : \"black\"}, # \"-aKPeriodicThroughputwithDSE\"\n",
    "    3 : { \"name\" : \"DeepKDSE\" ,  \"color\" : \"red\"}, # \"-aDeepKPeriodicThroughputwithDSE\"\n",
    "    4 : { \"name\" : \"DeepKDSEA\" , \"color\" : \"green\"}, # \"-aDeepKPeriodicThroughputwithDSE -papprox=1\"\n",
    "  #  5 : { \"name\" : \"KDSE\" ,      \"color\" : \"black\"}, # \"-athroughputbufferingDSE -prealtime=1 -pmode=KDSE\"\n",
    "  #  6 : { \"name\" : \"K2DSE\" ,     \"color\" : \"black\"}, # \"-athroughputbufferingDSE -prealtime=1 -pmode=K2DSE\"\n",
    "  #  8 : { \"name\" : \"KDSE4\" ,     \"color\" : \"black\"}, # \"-athroughputbufferingDSE -prealtime=1 -pmode=KDSE -pthread=4\"\n",
    "  #  9 : { \"name\" : \"K2DSE4\" ,    \"color\" : \"black\"}, # \"-athroughputbufferingDSE -prealtime=1 -pmode=K2DSE -pthread=4\"\n",
    "}"
   ]
  },
  {
   "cell_type": "code",
   "execution_count": null,
   "id": "628e0f64",
   "metadata": {},
   "outputs": [],
   "source": [
    "## Collect the max throughput for each application\n",
    "import pandas as pd \n",
    "\n",
    "max_throughput = {}\n",
    "for app in appnames :\n",
    "    for line in open(logdir + \"/\" + app + \"_1.txt\").read().split(\"\\n\"):\n",
    "        if 'KPeriodic Throughput is' in line :\n",
    "            th = float(line.split(\" \")[-1])\n",
    "            max_throughput[app] = th\n",
    "            print (f\"{app} {th}\")\n",
    "task_count = {}\n",
    "for app in appnames :\n",
    "    for line in open(logdir + \"/\" + app + \"_0.txt\").read().split(\"\\n\"):\n",
    "        if 'Task count' in line :\n",
    "            count = int(line.split(\" \")[-1])\n",
    "            task_count[app] = count\n",
    "            print (f\"{app} {count}\")"
   ]
  },
  {
   "cell_type": "code",
   "execution_count": null,
   "id": "2e34753d",
   "metadata": {},
   "outputs": [],
   "source": [
    "appnames"
   ]
  },
  {
   "cell_type": "code",
   "execution_count": null,
   "id": "eb61fb1d",
   "metadata": {},
   "outputs": [],
   "source": [
    "dsereader.plot_all(logdir, graphs=appnames, methods=methods, plotfunc=dsereader.plot_app_pareto)"
   ]
  },
  {
   "cell_type": "code",
   "execution_count": null,
   "id": "c824bbd6",
   "metadata": {},
   "outputs": [],
   "source": [
    "import matplotlib.pyplot as plt\n",
    "for i, name in zip(range(1, len(appnames) + 1), appnames):\n",
    "    plt.figure()\n",
    "    dsereader.plot_app_pareto(logdir, appname=name, methods=methods)\n",
    "    #for m in methods.keys():\n",
    "    #    infos = methods[m]\n",
    "    #    try :\n",
    "    #        df = dsereader.load_app_dse(logdir, name, m)\n",
    "    #        dsereader.plot_pareto(df, dsecolor=infos[\"color\"], dsename=infos[\"name\"])\n",
    "    #    except :\n",
    "    #        pass"
   ]
  },
  {
   "cell_type": "code",
   "execution_count": null,
   "id": "02ff3ab0",
   "metadata": {},
   "outputs": [],
   "source": [
    "import math\n",
    "import datetime\n",
    "def time_in_msec(time_msec): # copy pasted from https://stackoverflow.com/questions/48063828/convert-duration-format-from-float-to-monthdayshoursminutesseconds-in-python\n",
    "    time_sec = int(time_msec // 1000)\n",
    "    delta = datetime.timedelta(seconds=time_sec)\n",
    "    delta_str = str(delta)[-8:]\n",
    "    hours, minutes, seconds = [int(val) for val in delta_str.split(\":\", 3)]\n",
    "    weeks = delta.days // 7\n",
    "    days = delta.days % 7\n",
    "    return \"{}days {}h {}min {}.{}sec ({})\".format(days, hours, minutes, seconds,int(time_msec) & 1000, time_msec)\n",
    "\n",
    "time_in_msec(100000.10)\n"
   ]
  },
  {
   "cell_type": "code",
   "execution_count": null,
   "id": "cd12cba1",
   "metadata": {},
   "outputs": [],
   "source": [
    "def gen_dsetable(logdir, graphs, methods):\n",
    "    list_of_dict = []\n",
    "    #res = { \"name\" : [] }\n",
    "    #for m in methods:\n",
    "    #    #res[methods[m][\"name\"]] = []\n",
    "    for i, name in zip(range(1, len(graphs) + 1), graphs):\n",
    "        #res[\"name\"].append(name)\n",
    "        for m in methods:\n",
    "            method_name = methods[m][\"name\"]\n",
    "            try :\n",
    "                df = dsereader.load_app_dse(logdir, name, m, cols = [\"throughput\", \"storage distribution size\",\"cumulative duration\"])\n",
    "                sd_count = df[\"storage distribution size\"].count() if \"throughput\" in df else \"-\"\n",
    "                max_th = df[\"throughput\"].max() \n",
    "                duration = df[\"cumulative duration\"].max() \n",
    "                finished = math.isclose(max_th, max_throughput[name], rel_tol=1e-5)\n",
    "                pareto = dsereader.extract_pareto(df)\n",
    "                pareto_count = pareto[\"storage distribution size\"].count() if finished else \"-\"\n",
    "                #res[methods[m][\"name\"]].append(sd_count)\n",
    "                list_of_dict += [{\"graph\" : name, \n",
    "                                  \"#task\" : task_count[name],\n",
    "                                  \"method\" : method_name, \n",
    "                                   \"#SD\" : sd_count,\n",
    "                                   \"#Pareto\" : pareto_count,\n",
    "                                  \"Duration\" : time_in_msec(duration), \n",
    "                                  \"Finished\" : finished}]\n",
    "            except FileNotFoundError:\n",
    "                list_of_dict += [{\"graph\" : name, \n",
    "                              \"#task\" : task_count[name],\n",
    "                              \"method\" : method_name,\n",
    "                              \"#SD\" : \"-\", \n",
    "                              \"#Pareto\" : \"-\",\n",
    "                              \"Duration\" : \"-\", \n",
    "                              \"Finished\" : False}]\n",
    "            \n",
    "    #df = pd.DataFrame(res)[[\"name\"] + [methods[m][\"name\"] for m in methods]]    \n",
    "    #df = df.rename (columns = {\n",
    "    #    \"name\" : \"Graph\"\n",
    "    #})\n",
    "\n",
    "    return list_of_dict"
   ]
  },
  {
   "cell_type": "code",
   "execution_count": null,
   "id": "932c5f51",
   "metadata": {},
   "outputs": [],
   "source": [
    "l = gen_dsetable(logdir, graphs=appnames, methods=methods)"
   ]
  },
  {
   "cell_type": "code",
   "execution_count": null,
   "id": "fcc51959",
   "metadata": {},
   "outputs": [],
   "source": [
    "df = pd.DataFrame(l).set_index([\"graph\",\"#task\",\"method\"])\n",
    "df"
   ]
  },
  {
   "cell_type": "code",
   "execution_count": null,
   "id": "db0f5f7c",
   "metadata": {},
   "outputs": [],
   "source": [
    "colformat = \"|\".join([\"\"] + [\"l\"] * df.index.nlevels + [\"r\"] * df.shape[1] + [\"\"])\n",
    "               \n",
    "latex = df.to_latex(\n",
    "        float_format=\"{:0.1f}\".format # , column_format=colformat, index=False\n",
    "    )\n",
    "print(latex)"
   ]
  },
  {
   "cell_type": "code",
   "execution_count": null,
   "id": "49a81f53",
   "metadata": {},
   "outputs": [],
   "source": [
    "l"
   ]
  },
  {
   "cell_type": "code",
   "execution_count": null,
   "id": "b4085903",
   "metadata": {},
   "outputs": [],
   "source": []
  },
  {
   "cell_type": "code",
   "execution_count": null,
   "id": "0db2702d",
   "metadata": {},
   "outputs": [],
   "source": []
  },
  {
   "cell_type": "code",
   "execution_count": null,
   "id": "49eab050",
   "metadata": {},
   "outputs": [],
   "source": []
  },
  {
   "cell_type": "code",
   "execution_count": null,
   "id": "7bebb2fd",
   "metadata": {},
   "outputs": [],
   "source": []
  },
  {
   "cell_type": "code",
   "execution_count": null,
   "id": "06d7e6bf",
   "metadata": {},
   "outputs": [],
   "source": []
  }
 ],
 "metadata": {
  "kernelspec": {
   "display_name": "Python 3 (ipykernel)",
   "language": "python",
   "name": "python3"
  },
  "language_info": {
   "codemirror_mode": {
    "name": "ipython",
    "version": 3
   },
   "file_extension": ".py",
   "mimetype": "text/x-python",
   "name": "python",
   "nbconvert_exporter": "python",
   "pygments_lexer": "ipython3",
   "version": "3.11.4"
  }
 },
 "nbformat": 4,
 "nbformat_minor": 5
}
